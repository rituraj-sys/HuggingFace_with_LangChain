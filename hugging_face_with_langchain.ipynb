{
  "nbformat": 4,
  "nbformat_minor": 0,
  "metadata": {
    "colab": {
      "provenance": []
    },
    "kernelspec": {
      "name": "python3",
      "display_name": "Python 3"
    },
    "language_info": {
      "name": "python"
    }
  },
  "cells": [
    {
      "cell_type": "code",
      "execution_count": null,
      "metadata": {
        "collapsed": true,
        "id": "xLkW592AKdX_"
      },
      "outputs": [],
      "source": [
        "# ## library\n",
        "# !pip install langchain-huggingface\n",
        "# ## api call\n",
        "# !pip install huggingface_hub\n",
        "# !pip install transformers\n",
        "# !pip install accelerate\n",
        "# !pip install bitsandbytes\n",
        "# !pip install langchain"
      ]
    },
    {
      "cell_type": "code",
      "source": [
        "from langchain_huggingface import HuggingFaceEndpoint"
      ],
      "metadata": {
        "id": "8RJWP9-WZpMb"
      },
      "execution_count": null,
      "outputs": []
    },
    {
      "cell_type": "code",
      "source": [
        "from google.colab import userdata\n",
        "key = userdata.get('HF_TOKEN')\n",
        "print(key)"
      ],
      "metadata": {
        "colab": {
          "base_uri": "https://localhost:8080/"
        },
        "id": "Y1fGpqehVeG5",
        "outputId": "74cf55cf-1d15-4c1c-e99e-d6e1eadafd0a"
      },
      "execution_count": null,
      "outputs": [
        {
          "output_type": "stream",
          "name": "stdout",
          "text": [
            ""
          ]
        }
      ]
    },
    {
      "cell_type": "code",
      "source": [
        "import os\n",
        "os.environ[\"HF_TOKEN\"] = key"
      ],
      "metadata": {
        "id": "OQfcLa3WVrss"
      },
      "execution_count": null,
      "outputs": []
    },
    {
      "cell_type": "code",
      "source": [
        "model3=\"gpt2\"\n",
        "llm3 = HuggingFaceEndpoint(model=model3,max_length=121,temperature=0.77,token=key)"
      ],
      "metadata": {
        "colab": {
          "base_uri": "https://localhost:8080/"
        },
        "id": "riBIi-v9jNmm",
        "outputId": "85387c98-5572-469d-cfa5-07d1cb740a6e"
      },
      "execution_count": null,
      "outputs": [
        {
          "output_type": "stream",
          "name": "stderr",
          "text": [
            "WARNING:langchain_huggingface.llms.huggingface_endpoint:WARNING! max_length is not default parameter.\n",
            "                    max_length was transferred to model_kwargs.\n",
            "                    Please make sure that max_length is what you intended.\n",
            "WARNING:langchain_huggingface.llms.huggingface_endpoint:WARNING! token is not default parameter.\n",
            "                    token was transferred to model_kwargs.\n",
            "                    Please make sure that token is what you intended.\n",
            "Note: Environment variable`HF_TOKEN` is set and is the current active token independently from the token you've just configured.\n",
            "WARNING:huggingface_hub._login:Note: Environment variable`HF_TOKEN` is set and is the current active token independently from the token you've just configured.\n"
          ]
        }
      ]
    },
    {
      "cell_type": "code",
      "source": [
        "llm3.invoke(\"what is machine learning\")"
      ],
      "metadata": {
        "colab": {
          "base_uri": "https://localhost:8080/",
          "height": 139
        },
        "id": "T5_AMH_vjdMb",
        "outputId": "29526b52-5ce0-452b-9d25-780cf98215c3"
      },
      "execution_count": null,
      "outputs": [
        {
          "output_type": "execute_result",
          "data": {
            "text/plain": [
              "\"?\\n\\nMachine learning is a new field that uses a variety of techniques to understand and improve the information that we consume. The basics of machine learning include semantic search and classification, machine learning of tasks, task-specific training and machine learning of words.\\n\\nMachine learning is based on the theory that, if you can guess the right word at the right time, you can find that word. But it is not limited to the task-specific training methods, such as word prediction and word-counting. It can also include other methods such as task-specific training, in which the training is performed in a specific order and time, and in which you do not specify the order of training. In these cases, you will learn a whole new set of skills.\\n\\nMachine learning is not limited to specific tasks, but it can also include specific tasks that are not specific to tasks. For example, if you want to know about the unemployment rate, you can also learn about the country's economic situation. But you can also learn about a particular item by looking at it over time.\\n\\nSome examples of machine learning include:\\n\\nRecruitment: How many people will come to your house? How many will come to your office? What are the results of your interviews? What are the expenses?\\n\\nHow many people will come to your house? How many will come to your office? What are the results of your interviews? What are the expenses? Validation: How many people will come to your house? How many will come to your office? What are the results of your interviews? What are the expenses?\\n\\nHow many people will come to your house? How many will come to your office? What are the results of your interviews? What are the expenses? Task: How many people will come to your office? How many will come to your office? What are the results of your interviews? What are the expenses?\\n\\nHow many people will come to your office? How many will come to your office? What are the results of your interviews? What are the expenses? Goal: How many people will come to your office? How many will come to your office? What are the results of your interviews? What are the expenses?\\n\\nHow many people will come to your office? How many will come to your office? What are the results of your interviews? What are the expenses?\\n\\nHow many people will come to your office? How many will come to your office? What are the\""
            ],
            "application/vnd.google.colaboratory.intrinsic+json": {
              "type": "string"
            }
          },
          "metadata": {},
          "execution_count": 52
        }
      ]
    },
    {
      "cell_type": "code",
      "source": [
        "model = \"mistralai/Mistral-7B-Instruct-v0.2\"\n",
        "llm = HuggingFaceEndpoint(model=model,max_length=121,temperature=0.77,token=key)"
      ],
      "metadata": {
        "colab": {
          "base_uri": "https://localhost:8080/"
        },
        "id": "iJqGrLOxYYWF",
        "outputId": "b1c59585-3a56-4831-ae2a-079b0fe19322"
      },
      "execution_count": null,
      "outputs": [
        {
          "output_type": "stream",
          "name": "stderr",
          "text": [
            "WARNING:langchain_huggingface.llms.huggingface_endpoint:WARNING! max_length is not default parameter.\n",
            "                    max_length was transferred to model_kwargs.\n",
            "                    Please make sure that max_length is what you intended.\n",
            "WARNING:langchain_huggingface.llms.huggingface_endpoint:WARNING! token is not default parameter.\n",
            "                    token was transferred to model_kwargs.\n",
            "                    Please make sure that token is what you intended.\n",
            "Note: Environment variable`HF_TOKEN` is set and is the current active token independently from the token you've just configured.\n",
            "WARNING:huggingface_hub._login:Note: Environment variable`HF_TOKEN` is set and is the current active token independently from the token you've just configured.\n"
          ]
        }
      ]
    },
    {
      "cell_type": "code",
      "source": [
        "llm.invoke(\"what is machinne learning\")"
      ],
      "metadata": {
        "colab": {
          "base_uri": "https://localhost:8080/",
          "height": 139
        },
        "id": "tSD43N8dagBX",
        "outputId": "49223a03-5a37-401b-fa2c-775d06db8d38"
      },
      "execution_count": null,
      "outputs": [
        {
          "output_type": "execute_result",
          "data": {
            "text/plain": [
              "'?\\n\\nMachine learning (ML) is a subset of artificial intelligence (AI) that provides systems the ability to automatically learn and improve from experience without being explicitly programmed. It focuses on the development of computer programs that can access data and use it to learn for themselves.\\n\\nThe process of learning begins with observations or data, such as examples, direct experience, or instruction, in order to look for patterns in data and make better decisions in the future based on the examples that we provide. The primary aim is to allow the computers to learn automatically without human intervention or assistance and adjust actions accordingly.\\n\\nMachine learning algorithms build a mathematical model based on input data in order to make predictions or decisions without being explicitly programmed to perform the task. Machine learning algorithms are categorized as supervised, unsupervised, semi-supervised, or reinforcement learning based on the type of data they learn from.\\n\\nMachine learning is used in a variety of applications, including email filtering and computer vision, where it is difficult or infeasible to develop a conventional algorithm for effectively processing or making sense of the data. It has revolutionized industries like healthcare, finance, and marketing, by enabling the creation of intelligent systems that can find hidden insights without being explicitly programmed to perform the task.'"
            ],
            "application/vnd.google.colaboratory.intrinsic+json": {
              "type": "string"
            }
          },
          "metadata": {},
          "execution_count": 31
        }
      ]
    },
    {
      "cell_type": "code",
      "source": [
        "model1 = \"mistralai/Mistral-7B-Instruct-v0.3\"\n",
        "llm1 = HuggingFaceEndpoint(model=model1,max_length=121,temperature=0.77,token=key)"
      ],
      "metadata": {
        "colab": {
          "base_uri": "https://localhost:8080/"
        },
        "id": "BwESPyHUcHiS",
        "outputId": "4f00b05d-c13d-438d-9bb0-755cf7c208f0"
      },
      "execution_count": null,
      "outputs": [
        {
          "output_type": "stream",
          "name": "stderr",
          "text": [
            "WARNING:langchain_huggingface.llms.huggingface_endpoint:WARNING! max_length is not default parameter.\n",
            "                    max_length was transferred to model_kwargs.\n",
            "                    Please make sure that max_length is what you intended.\n",
            "WARNING:langchain_huggingface.llms.huggingface_endpoint:WARNING! token is not default parameter.\n",
            "                    token was transferred to model_kwargs.\n",
            "                    Please make sure that token is what you intended.\n",
            "Note: Environment variable`HF_TOKEN` is set and is the current active token independently from the token you've just configured.\n",
            "WARNING:huggingface_hub._login:Note: Environment variable`HF_TOKEN` is set and is the current active token independently from the token you've just configured.\n"
          ]
        }
      ]
    },
    {
      "cell_type": "code",
      "source": [
        "llm1.invoke(\"hat is huggingface\")"
      ],
      "metadata": {
        "colab": {
          "base_uri": "https://localhost:8080/",
          "height": 139
        },
        "id": "EaqJ0vy-cFgG",
        "outputId": "43c43069-28c3-4e79-e953-da4f1a5c5f8e"
      },
      "execution_count": null,
      "outputs": [
        {
          "output_type": "execute_result",
          "data": {
            "text/plain": [
              "'?\\n\\nHugging Face is a technology company that specializes in natural language processing (NLP). They are known for creating the Transformers library, a popular open-source library for NLP tasks such as text classification, machine translation, and question answering. Hugging Face also offers a platform for training, deploying, and sharing NLP models, as well as a dataset hub for accessing and downloading pre-trained models and datasets.\\n\\nThe Transformers library is particularly notable because it makes it easier for developers to work with pre-trained models and apply them to new tasks. These models are trained on large amounts of data and can perform tasks such as language translation and text generation with high accuracy. By using pre-trained models, developers can save a significant amount of time and resources compared to training models from scratch.\\n\\nHugging Face also offers a number of other tools and services for NLP developers, including the Model Hub, a marketplace for sharing and deploying models, and the Dataset Hub, a collection of public and private datasets for NLP tasks. Hugging Face is widely used by developers and researchers in the field of NLP and has become an important player in the growing field of artificial intelligence.'"
            ],
            "application/vnd.google.colaboratory.intrinsic+json": {
              "type": "string"
            }
          },
          "metadata": {},
          "execution_count": 34
        }
      ]
    },
    {
      "cell_type": "code",
      "source": [
        "from langchain import PromptTemplate, LLMChain\n",
        "\n",
        "question = \"who won the lok sabha election in 2014 in India\"\n",
        "template = \"\"\"Question: {question}\n",
        "Answer: answer only in 50 characters only as output.\"\"\"\n",
        "\n",
        "prompt = PromptTemplate(template=template, input_variables=['question'])\n",
        "print(prompt)"
      ],
      "metadata": {
        "colab": {
          "base_uri": "https://localhost:8080/"
        },
        "id": "1PW03fNpdkLd",
        "outputId": "ec67e1d0-10e0-4256-c770-c1d81b667eb6"
      },
      "execution_count": null,
      "outputs": [
        {
          "output_type": "stream",
          "name": "stdout",
          "text": [
            "input_variables=['question'] input_types={} partial_variables={} template='Question: {question}\\nAnswer: One line answer.'\n"
          ]
        }
      ]
    },
    {
      "cell_type": "code",
      "source": [
        "llm_chain = LLMChain(llm=llm, prompt=prompt)\n",
        "llm_chain.invoke(question)"
      ],
      "metadata": {
        "colab": {
          "base_uri": "https://localhost:8080/"
        },
        "id": "n0LuGAWZgmJH",
        "outputId": "414bb38b-a4ec-4b5d-8afe-6662c4296361"
      },
      "execution_count": null,
      "outputs": [
        {
          "output_type": "execute_result",
          "data": {
            "text/plain": [
              "{'question': 'who won the lok sabha election in 2014 in India',\n",
              " 'text': \" The Bharatiya Janata Party (BJP) led by Narendra Modi won a majority in the 2014 Lok Sabha elections in India, forming a government at the center. For more detailed information, you can check out the election results on the Election Commission of India's official website.\"}"
            ]
          },
          "metadata": {},
          "execution_count": 56
        }
      ]
    }
  ]
}
